{
  "nbformat": 4,
  "nbformat_minor": 0,
  "metadata": {
    "colab": {
      "provenance": []
    },
    "kernelspec": {
      "name": "python3",
      "display_name": "Python 3"
    },
    "language_info": {
      "name": "python"
    }
  },
  "cells": [
    {
      "cell_type": "markdown",
      "source": [
        "# **Collaborative Filtering Recommendation System**"
      ],
      "metadata": {
        "id": "kQwChQDzQ_Kx"
      }
    },
    {
      "cell_type": "code",
      "source": [
        "from math import sqrt\n",
        "import matplotlib.pyplot as plt"
      ],
      "metadata": {
        "id": "riqxWB8yBjyG"
      },
      "execution_count": 4,
      "outputs": []
    },
    {
      "cell_type": "markdown",
      "source": [
        "## **1 - Collecting Preferences**"
      ],
      "metadata": {
        "id": "WCD3N2c5GZ6N"
      }
    },
    {
      "cell_type": "markdown",
      "source": [
        "The foundation of any recommendation system is data. For our movie recommendation system, we begin by collecting movie ratings from various critics. This data is stored in a dictionary where each key is a critic's name and each value is another dictionary of movie titles and their respective ratings."
      ],
      "metadata": {
        "id": "WCGB_m8nRGMv"
      }
    },
    {
      "cell_type": "code",
      "execution_count": 2,
      "metadata": {
        "id": "CLuVHsrvBGj0"
      },
      "outputs": [],
      "source": [
        "# A dictionary of movie critics and their ratings of a small\n",
        "# set of movies\n",
        "critics={'Lisa Rose': {'Lady in the Water': 2.5, 'Snakes on a Plane': 3.5,\n",
        " 'Just My Luck': 3.0, 'Superman Returns': 3.5, 'You, Me and Dupree': 2.5,\n",
        " 'The Night Listener': 3.0},\n",
        "'Gene Seymour': {'Lady in the Water': 3.0, 'Snakes on a Plane': 3.5,\n",
        " 'Just My Luck': 1.5, 'Superman Returns': 5.0, 'The Night Listener': 3.0,\n",
        " 'You, Me and Dupree': 3.5},\n",
        "'Michael Phillips': {'Lady in the Water': 2.5, 'Snakes on a Plane': 3.0,\n",
        " 'Superman Returns': 3.5, 'The Night Listener': 4.0},\n",
        "'Claudia Puig': {'Snakes on a Plane': 3.5, 'Just My Luck': 3.0,\n",
        " 'The Night Listener': 4.5, 'Superman Returns': 4.0,\n",
        " 'You, Me and Dupree': 2.5},\n",
        "'Mick LaSalle': {'Lady in the Water': 3.0, 'Snakes on a Plane': 4.0,\n",
        " 'Just My Luck': 2.0, 'Superman Returns': 3.0, 'The Night Listener': 3.0,\n",
        " 'You, Me and Dupree': 2.0},\n",
        "'Jack Matthews': {'Lady in the Water': 3.0, 'Snakes on a Plane': 4.0,\n",
        " 'The Night Listener': 3.0, 'Superman Returns': 5.0, 'You, Me and Dupree': 3.5},\n",
        "'Toby': {'Snakes on a Plane':4.5,'You, Me and Dupree':1.0,'Superman Returns':4.0}}"
      ]
    },
    {
      "cell_type": "markdown",
      "source": [
        "## **2 - Finding Similar Users**"
      ],
      "metadata": {
        "id": "YCk0sDKJEOPn"
      }
    },
    {
      "cell_type": "markdown",
      "source": [
        "### **2.1 - Measuring Similarities**"
      ],
      "metadata": {
        "id": "S13JAbxIGThc"
      }
    },
    {
      "cell_type": "markdown",
      "source": [
        "To make recommendations, we need to measure how similar the users (critics) are in terms of their movie preferences. We'll explore two statistical methods: Euclidean distance and Pearson correlation."
      ],
      "metadata": {
        "id": "jNtSIyGsRSf_"
      }
    },
    {
      "cell_type": "markdown",
      "source": [
        "#### **2.1.1 - Euclidean Distance Score**"
      ],
      "metadata": {
        "id": "j627bd5mHNbO"
      }
    },
    {
      "cell_type": "code",
      "source": [
        "\"\"\"\n",
        "Here is the preference space plot for the movie critics based on their ratings\n",
        "for \"Snakes on a Plane\" and \"You, Me and Dupree\". Each critic is plotted according\n",
        "to their rating for \"Snakes on a Plane\" on the x-axis and \"You, Me and Dupree\" on\n",
        "the y-axis.\n",
        "\n",
        "The closer two people are in the preference space, the more similar their preferences\n",
        "are. Because the chart is two-dimensional, you can only look at two\n",
        "rankings at a time, but the principle is the same for bigger sets of rankings.\n",
        "\"\"\"\n",
        "\n",
        "# Initialize lists to hold the x and y coordinates for the plot\n",
        "x = []\n",
        "y = []\n",
        "names = []\n",
        "\n",
        "# Iterate over the dictionary to extract ratings for 'Snakes on a Plane' and 'You, Me and Dupree'\n",
        "for critic, ratings in critics.items():\n",
        "    if 'Snakes on a Plane' in ratings and 'You, Me and Dupree' in ratings:\n",
        "        x.append(ratings['Snakes on a Plane'])\n",
        "        y.append(ratings['You, Me and Dupree'])\n",
        "        names.append(critic)\n",
        "\n",
        "# Creating the plot\n",
        "fig, ax = plt.subplots()\n",
        "ax.scatter(x, y)\n",
        "\n",
        "# Annotating the plot with critic names\n",
        "for i, name in enumerate(names):\n",
        "    ax.annotate(name, (x[i], y[i]))\n",
        "\n",
        "# Setting plot labels and title\n",
        "plt.title('Preference Space of Critics for \"Snakes on a Plane\" and \"You, Me and Dupree\"')\n",
        "plt.xlabel('Snakes on a Plane Rating')\n",
        "plt.ylabel('You, Me and Dupree Rating')\n",
        "plt.grid(True)\n",
        "\n",
        "# Show plot\n",
        "plt.show()"
      ],
      "metadata": {
        "colab": {
          "base_uri": "https://localhost:8080/",
          "height": 472
        },
        "id": "BPPSTvtDqgcv",
        "outputId": "c4bee8a8-ae31-4b1e-9dd7-fc0de9b8d387"
      },
      "execution_count": 6,
      "outputs": [
        {
          "output_type": "display_data",
          "data": {
            "text/plain": [
              "<Figure size 640x480 with 1 Axes>"
            ],
            "image/png": "[encoded data removed]"
          },
          "metadata": {}
        }
      ]
    },
    {
      "cell_type": "code",
      "source": [
        "\"\"\"\n",
        "This function calculates the eucludean distance, which will be smaller for people\n",
        "who are more similar. However, you need a function that gives higher\n",
        "values for people who are similar. This can be done by adding 1 to the\n",
        "function (so you don’t get a division-by-zero error) and inverting it.\n",
        "\n",
        "The function always returns a value between 0 and 1, where a value\n",
        "of 1 means that two people have identical preferences\n",
        "\"\"\"\n",
        "\n",
        "# Returns a distance-based similarity score for person1 and person2\n",
        "def sim_distance(prefs,person1,person2):\n",
        "  # Get the list of shared_items\n",
        "  si={}\n",
        "  for item in prefs[person1]:\n",
        "    if item in prefs[person2]: si[item]=1\n",
        "\n",
        "  # if they have no ratings in common, return 0\n",
        "  if len(si)==0: return 0\n",
        "\n",
        "  # Add up the squares of all the differences\n",
        "  sum_of_squares=sum([pow(prefs[person1][item]-prefs[person2][item],2)\n",
        "                      for item in prefs[person1] if item in prefs[person2]])\n",
        "\n",
        "  return 1/(1+sum_of_squares)"
      ],
      "metadata": {
        "id": "AzcWKG-PBpjD"
      },
      "execution_count": 13,
      "outputs": []
    },
    {
      "cell_type": "code",
      "source": [
        "sim_distance(critics,'Lisa Rose','Claudia Puig'), sim_distance(critics,'Lisa Rose','Gene Seymour')"
      ],
      "metadata": {
        "colab": {
          "base_uri": "https://localhost:8080/"
        },
        "id": "DKl0XM7ZHBEI",
        "outputId": "b1687ced-3c8d-43f6-e13a-544147cecd8b"
      },
      "execution_count": 20,
      "outputs": [
        {
          "output_type": "execute_result",
          "data": {
            "text/plain": [
              "(0.2857142857142857, 0.14814814814814814)"
            ]
          },
          "metadata": {},
          "execution_count": 20
        }
      ]
    },
    {
      "cell_type": "markdown",
      "source": [
        "#### **2.1.2 - Pearson Correlation Score**"
      ],
      "metadata": {
        "id": "pQZcLBi7Hdyh"
      }
    },
    {
      "cell_type": "code",
      "source": [
        "\"\"\"\n",
        "Here is the scatter plot comparing the movie ratings of Gene Seymour and Mick LaSalle.\n",
        "Each point on the plot represents a movie, plotted according to its rating by Gene Seymour\n",
        "on the x-axis and by Mick LaSalle on the y-axis. The plot shows how their ratings align or\n",
        "differ for each movie they both reviewed.\n",
        "\"\"\"\n",
        "\n",
        "# Initialize lists to hold the ratings and movie titles for plotting\n",
        "x_gene = []\n",
        "y_mick = []\n",
        "movies = []\n",
        "\n",
        "# Iterate over the dictionary to extract ratings for each movie by Gene Seymour and Mick LaSalle\n",
        "for movie in critics['Gene Seymour']:\n",
        "    if movie in critics['Mick LaSalle']:\n",
        "        x_gene.append(critics['Gene Seymour'][movie])\n",
        "        y_mick.append(critics['Mick LaSalle'][movie])\n",
        "        movies.append(movie)\n",
        "\n",
        "# Creating the plot\n",
        "fig, ax = plt.subplots()\n",
        "ax.scatter(x_gene, y_mick)\n",
        "\n",
        "# Annotating the plot with movie titles\n",
        "for i, movie in enumerate(movies):\n",
        "    ax.annotate(movie, (x_gene[i], y_mick[i]))\n",
        "\n",
        "# Setting plot labels and title\n",
        "plt.title('Comparison of Movie Ratings: Gene Seymour vs. Mick LaSalle')\n",
        "plt.xlabel('Gene Seymour Ratings')\n",
        "plt.ylabel('Mick LaSalle Ratings')\n",
        "plt.grid(True)\n",
        "\n",
        "# Show plot\n",
        "plt.show()\n"
      ],
      "metadata": {
        "colab": {
          "base_uri": "https://localhost:8080/",
          "height": 472
        },
        "id": "dZb7Mn0qsTJB",
        "outputId": "cac10d4e-334a-4e60-8948-207619654df4"
      },
      "execution_count": 8,
      "outputs": [
        {
          "output_type": "display_data",
          "data": {
            "text/plain": [
              "<Figure size 640x480 with 1 Axes>"
            ],
            "image/png": "[encoded data removed]"
          },
          "metadata": {}
        }
      ]
    },
    {
      "cell_type": "code",
      "source": [
        "\"\"\"\n",
        "A slightly more sophisticated way to determine the similarity between\n",
        "people’s interests is to use a Pearson correlation coefficient.\n",
        "\n",
        "This function will return a value between −1 and 1. A value of 1 means\n",
        "that the two people have exactly the same ratings for every item. A value\n",
        "of −1 means that the two people have exactly the opposite ratings for every\n",
        "item. A value of 0 means that the two people have no ratings in common.\n",
        "\"\"\"\n",
        "\n",
        "# Returns the Pearson correlation coefficient for p1 and p2\n",
        "def sim_pearson(prefs,p1,p2):\n",
        "  # Get the list of mutually rated items\n",
        "  si={}\n",
        "  for item in prefs[p1]:\n",
        "    if item in prefs[p2]: si[item]=1\n",
        "\n",
        "  # if they are no ratings in common, return 0\n",
        "  if len(si)==0: return 0\n",
        "\n",
        "  # Sum calculations\n",
        "  n=len(si)\n",
        "\n",
        "  # Sums of all the preferences\n",
        "  sum1=sum([prefs[p1][it] for it in si])\n",
        "  sum2=sum([prefs[p2][it] for it in si])\n",
        "\n",
        "  # Sums of the squares\n",
        "  sum1Sq=sum([pow(prefs[p1][it],2) for it in si])\n",
        "  sum2Sq=sum([pow(prefs[p2][it],2) for it in si])\n",
        "\n",
        "  # Sum of the products\n",
        "  pSum=sum([prefs[p1][it]*prefs[p2][it] for it in si])\n",
        "\n",
        "  # Calculate r (Pearson score)\n",
        "  num=pSum-(sum1*sum2/n)\n",
        "  den=sqrt((sum1Sq-pow(sum1,2)/n)*(sum2Sq-pow(sum2,2)/n))\n",
        "  if den==0: return 0\n",
        "\n",
        "  r=num/den\n",
        "\n",
        "  return r"
      ],
      "metadata": {
        "id": "rvFM-8rUBuc5"
      },
      "execution_count": 11,
      "outputs": []
    },
    {
      "cell_type": "code",
      "source": [
        "sim_pearson(critics,'Lisa Rose','Claudia Puig'), sim_pearson(critics,'Lisa Rose','Gene Seymour')"
      ],
      "metadata": {
        "id": "_K_R9zC3IMO7",
        "colab": {
          "base_uri": "https://localhost:8080/"
        },
        "outputId": "ca2f1112-a235-469c-ba47-ba2639abbf84"
      },
      "execution_count": 21,
      "outputs": [
        {
          "output_type": "execute_result",
          "data": {
            "text/plain": [
              "(0.5669467095138396, 0.39605901719066977)"
            ]
          },
          "metadata": {},
          "execution_count": 21
        }
      ]
    },
    {
      "cell_type": "markdown",
      "source": [
        "#### **2.1.3 - Which Similarity Metric Should You Use?**"
      ],
      "metadata": {
        "id": "ei1-a7k8zwiv"
      }
    },
    {
      "cell_type": "markdown",
      "source": [
        "I’ve introduced functions for two different metrics here, but there are actually\n",
        "many more ways to measure similarity between two sets of data.\n",
        "\n",
        "The functions in the rest of this notebook have an optional similarity parameter,\n",
        "which points to a function to make it easier to experiment: specify\n",
        "sim_pearson or sim_distance to choose which similarity parameter\n",
        "to use. There are many other functions such as the Jaccard coefficient or\n",
        "Manhattan distance that you can use as your similarity function, as long\n",
        "as they have the same signature and return a float where a higher value\n",
        "means more similar."
      ],
      "metadata": {
        "id": "CMeV9psiziyR"
      }
    },
    {
      "cell_type": "markdown",
      "source": [
        "Now that you have functions for comparing two people, you can create a\n",
        "function that scores everyone against a given person and finds the closest\n",
        "matches.\n",
        "\n",
        "For example, I might be interested in learning which movie critics are simliar to mine so that I know whose advice I should take when deciding\n",
        "on a movie to watch."
      ],
      "metadata": {
        "id": "jnq--Q5b0GgY"
      }
    },
    {
      "cell_type": "markdown",
      "source": [
        "### **2.2 - Recommanding similar users**"
      ],
      "metadata": {
        "id": "xGGwmYRIz2jO"
      }
    },
    {
      "cell_type": "markdown",
      "source": [
        "Once user preferences are gathered and similarities are established, recommendation algorithms can predict and suggest items. These algorithms make use of user data to provide personalized content that aligns with their preferences.\n",
        "\n",
        "**User-Based Collaborative Filtering**\n",
        "\n",
        "User-Based Collaborative Filtering focuses on finding similarities between users. The system assumes that if users A and B have rated items similarly in the past, they will continue to agree in the future.\n",
        "\n",
        "For instance, if user A likes an item that user B hasn't rated yet, the system might suggest this item to user B, expecting a positive reception."
      ],
      "metadata": {
        "id": "Lt_Uax4c4SMa"
      }
    },
    {
      "cell_type": "code",
      "source": [
        "\"\"\"\n",
        "This function uses a Python list comprehension to compare me (the parameter person refers to me) to every\n",
        "other user in the dictionary using one of the previously defined distance\n",
        "metrics. Then it returns the first n items of the sorted results.\n",
        "\"\"\"\n",
        "\n",
        "# Returns the best matches for person from the prefs dictionary.\n",
        "# Number of results and similarity function are optional params.\n",
        "def topMatches(prefs,person,n=5,similarity=sim_pearson):\n",
        "  scores=[(similarity(prefs,person,other),other)\n",
        "                  for other in prefs if other!=person]\n",
        "  scores.sort()\n",
        "  scores.reverse()\n",
        "  return scores[0:n]"
      ],
      "metadata": {
        "id": "Pdiw_z_rB7FR"
      },
      "execution_count": 22,
      "outputs": []
    },
    {
      "cell_type": "code",
      "source": [
        "\"\"\"\n",
        "Given the output [(0.9912407071619299, 'Lisa Rose'),  (0.9244734516419049, 'Mick LaSalle'),  (0.8934051474415647, 'Claudia Puig')],\n",
        "I (Toby) know that I should be reading reviews by Lisa Rose, as her tastes tend to be similar to mine.\n",
        "\"\"\"\n",
        "topMatches(critics,'Toby',n=3)"
      ],
      "metadata": {
        "colab": {
          "base_uri": "https://localhost:8080/"
        },
        "id": "VrTym8AO1l04",
        "outputId": "2a7b0236-464d-4951-fb86-8690ea0e6442"
      },
      "execution_count": 24,
      "outputs": [
        {
          "output_type": "execute_result",
          "data": {
            "text/plain": [
              "[(0.9912407071619299, 'Lisa Rose'),\n",
              " (0.9244734516419049, 'Mick LaSalle'),\n",
              " (0.8934051474415647, 'Claudia Puig')]"
            ]
          },
          "metadata": {},
          "execution_count": 24
        }
      ]
    },
    {
      "cell_type": "markdown",
      "source": [
        "## **3 - Recommending Items**"
      ],
      "metadata": {
        "id": "eswqhQTTEVKA"
      }
    },
    {
      "cell_type": "markdown",
      "source": [
        "Finding a good critic to read is great, but what I really want is a movie\n",
        "recommendation right now. I could just look at the person who has tastes\n",
        "most similar to mine and look for a movie he likes that I haven’t seen yet,\n",
        "but that would be too permissive. Such an approach could accidentally\n",
        "turn up reviewers who haven’t reviewed some of the movies that I might\n",
        "like. It could also return a reviewer who strangely liked a movie that got\n",
        "bad reviews from all the other critics"
      ],
      "metadata": {
        "id": "82bmMwJxECZj"
      }
    },
    {
      "cell_type": "markdown",
      "source": [
        "To solve these issues, you need to score the items by producing a\n",
        "weighted score that ranks the critics.\n",
        "\n",
        "We will take the votes of all the other critics\n",
        "and multiply how similar they are to me by the score they gave to each\n",
        "movie."
      ],
      "metadata": {
        "id": "jyY3AAA3FrHq"
      }
    },
    {
      "cell_type": "code",
      "source": [
        "# Gets recommendations for a person by using a weighted average\n",
        "# of every other user's rankings\n",
        "def getRecommendations(prefs,person,similarity=sim_pearson):\n",
        "  totals={}\n",
        "  simSums={}\n",
        "  for other in prefs:\n",
        "    # don't compare me to myself\n",
        "    if other==person: continue\n",
        "    sim=similarity(prefs,person,other)\n",
        "\n",
        "    # ignore scores of zero or lower\n",
        "    if sim<=0: continue\n",
        "    for item in prefs[other]:\n",
        "\n",
        "      # only score movies I haven't seen yet\n",
        "      if item not in prefs[person] or prefs[person][item]==0:\n",
        "        # Similarity * Score\n",
        "        totals.setdefault(item,0)\n",
        "        totals[item]+=prefs[other][item]*sim\n",
        "        # Sum of similarities\n",
        "        simSums.setdefault(item,0)\n",
        "        simSums[item]+=sim\n",
        "\n",
        "  # Create the normalized list\n",
        "  rankings=[(total/simSums[item],item) for item,total in totals.items()]\n",
        "\n",
        "  # Return the sorted list\n",
        "  rankings.sort()\n",
        "  rankings.reverse()\n",
        "  return rankings"
      ],
      "metadata": {
        "id": "dtInvvIyCE8D"
      },
      "execution_count": 25,
      "outputs": []
    },
    {
      "cell_type": "markdown",
      "source": [
        "Now you can find out what movies I should watch next"
      ],
      "metadata": {
        "id": "h7Mi11a-GN2A"
      }
    },
    {
      "cell_type": "code",
      "source": [
        "getRecommendations(critics,'Toby')"
      ],
      "metadata": {
        "colab": {
          "base_uri": "https://localhost:8080/"
        },
        "id": "4jWYa0GnGXTF",
        "outputId": "48974a4e-e835-44e8-878b-d25e30993192"
      },
      "execution_count": 26,
      "outputs": [
        {
          "output_type": "execute_result",
          "data": {
            "text/plain": [
              "[(3.3477895267131017, 'The Night Listener'),\n",
              " (2.8325499182641614, 'Lady in the Water'),\n",
              " (2.530980703765565, 'Just My Luck')]"
            ]
          },
          "metadata": {},
          "execution_count": 26
        }
      ]
    },
    {
      "cell_type": "code",
      "source": [
        "getRecommendations(critics,'Toby',similarity=sim_distance) # here we changed the type of similarity into Eucludean"
      ],
      "metadata": {
        "colab": {
          "base_uri": "https://localhost:8080/"
        },
        "id": "ZrCHTsQlGh01",
        "outputId": "8a123a69-6cda-42c0-caba-9721e41841fd"
      },
      "execution_count": 27,
      "outputs": [
        {
          "output_type": "execute_result",
          "data": {
            "text/plain": [
              "[(3.5002478401415877, 'The Night Listener'),\n",
              " (2.7561242939959363, 'Lady in the Water'),\n",
              " (2.461988486074374, 'Just My Luck')]"
            ]
          },
          "metadata": {},
          "execution_count": 27
        }
      ]
    },
    {
      "cell_type": "markdown",
      "source": [
        "Not only do you get a ranked list of movies, but you also get a guess at\n",
        "what my rating for each movie would be. This report lets me decide if I\n",
        "want to watch a movie at all, or if I’d rather do something else entirely.\n",
        "Depending on your application, you may decide not to give a recommendation\n",
        "if there’s nothing that would meet a given user’s standards."
      ],
      "metadata": {
        "id": "RR0fIJBeHN2y"
      }
    },
    {
      "cell_type": "markdown",
      "source": [
        "You’ve now built a complete recommendation system, which will work\n",
        "with any type of product or link. All you have to do is set up a dictionary\n",
        "of people, items, and scores, and you can use this to create recommendations\n",
        "for any person."
      ],
      "metadata": {
        "id": "rWB7vmtlHOvz"
      }
    },
    {
      "cell_type": "markdown",
      "source": [
        "## **4 - Matching Products**"
      ],
      "metadata": {
        "id": "1jBYkOHzHzTo"
      }
    },
    {
      "cell_type": "markdown",
      "source": [
        "Now you know how to find similar people and recommend products for a\n",
        "given person, but what if you want to see which products are similar to\n",
        "each other? What if the platform hasn’t collected a lot of information about you and it's not able to find similar people to you?\n",
        "\n",
        "Let's assume this is your first time on YouTube and you just watched only on video. All those who watched the same video are automatically similar to you, using the user-based collective filtering algorithm. It might be difficult to know whose preference should be recommand to you. In this case, we should use **Item-Based Collaborative Filtering**. That's why you can see on online platforms \"Customers who watched this video A also watched the video B.\n",
        "\n",
        "While user-based filtering considers similarities between users, item-based filtering focuses on the relationships between items themselves. This approach is particularly useful for large datasets and is often more scalable than user-based filtering.\n",
        "\n"
      ],
      "metadata": {
        "id": "axBD_UhRHw7E"
      }
    },
    {
      "cell_type": "markdown",
      "source": [
        "For that, you can determine similarity by looking at who liked a particular\n",
        "item and seeing the other things they liked.\n",
        "\n",
        "\n",
        "This is actually the same method we used earlier to determine similarity between people—you just need to swap the people and the items. So you can use the same methods you wrote earlier if you transform the dictionary from:\n",
        "\n",
        "{\n",
        "'Lisa Rose': {'Lady in the Water': 2.5, 'Snakes on a Plane': 3.5},\n",
        "\n",
        "'Gene Seymour': {'Lady in the Water': 3.0, 'Snakes on a Plane': 3.5}\n",
        "}\n",
        "\n",
        "to:\n",
        "\n",
        "{\n",
        "'Lady in the Water':{'Lisa Rose':2.5,'Gene Seymour':3.0},\n",
        "\n",
        "'Snakes on a Plane':{'Lisa Rose':3.5,'Gene Seymour':3.5}\n",
        "}"
      ],
      "metadata": {
        "id": "AWrs5BgDKcB0"
      }
    },
    {
      "cell_type": "code",
      "source": [
        "# function to do this transformation\n",
        "def transformPrefs(prefs):\n",
        "  result={}\n",
        "  for person in prefs:\n",
        "    for item in prefs[person]:\n",
        "      result.setdefault(item,{})\n",
        "\n",
        "      # Flip item and person\n",
        "      result[item][person]=prefs[person][item]\n",
        "  return result"
      ],
      "metadata": {
        "id": "lf7p82Z5Co0g"
      },
      "execution_count": 28,
      "outputs": []
    },
    {
      "cell_type": "code",
      "source": [
        "movies = transformPrefs(critics)"
      ],
      "metadata": {
        "id": "oTyYP63aKsUj"
      },
      "execution_count": 29,
      "outputs": []
    },
    {
      "cell_type": "markdown",
      "source": [
        "now call the topMatches function used earlier to find the set of\n",
        "movies most similar to the movie \"Superman Returns\":"
      ],
      "metadata": {
        "id": "3R51bqlaLgkk"
      }
    },
    {
      "cell_type": "code",
      "source": [
        "\"\"\"\n",
        "Notice that in this example there are actually some negative correlation\n",
        "scores, which indicate that those who like Superman Returns tend to dislike\n",
        "Just My Luck and those who like Just My Luck tend to dislike Superman Returns.\n",
        "\"\"\"\n",
        "\n",
        "topMatches(movies,'Superman Returns')"
      ],
      "metadata": {
        "colab": {
          "base_uri": "https://localhost:8080/"
        },
        "id": "VXKS-R9nLqrY",
        "outputId": "de3ac118-98c8-4667-ff09-f40ab62ac1a4"
      },
      "execution_count": 32,
      "outputs": [
        {
          "output_type": "execute_result",
          "data": {
            "text/plain": [
              "[(0.6579516949597695, 'You, Me and Dupree'),\n",
              " (0.4879500364742689, 'Lady in the Water'),\n",
              " (0.11180339887498941, 'Snakes on a Plane'),\n",
              " (-0.1798471947990544, 'The Night Listener'),\n",
              " (-0.42289003161103106, 'Just My Luck')]"
            ]
          },
          "metadata": {},
          "execution_count": 32
        }
      ]
    },
    {
      "cell_type": "markdown",
      "source": [
        "Finally, you can even recommend critics who might enjoy a particular movie, providing a twist on the typical use of recommendation systems."
      ],
      "metadata": {
        "id": "VmCa0svcMuBD"
      }
    },
    {
      "cell_type": "code",
      "source": [
        "getRecommendations(movies,'Just My Luck')"
      ],
      "metadata": {
        "colab": {
          "base_uri": "https://localhost:8080/"
        },
        "id": "PJyt4gZDLqoU",
        "outputId": "6f8e3984-a6c8-4127-e038-ad6da9024797"
      },
      "execution_count": 33,
      "outputs": [
        {
          "output_type": "execute_result",
          "data": {
            "text/plain": [
              "[(4.0, 'Michael Phillips'), (3.0, 'Jack Matthews')]"
            ]
          },
          "metadata": {},
          "execution_count": 33
        }
      ]
    },
    {
      "cell_type": "markdown",
      "source": [
        "## **Conclusion**\n",
        "We've covered how to build a collaborative filtering recommendation system from scratch, providing practical code examples and detailed explanations. Whether you're looking to recommend movies, books, or any other product, these techniques can be adapted to suit your needs."
      ],
      "metadata": {
        "id": "rFk_42zDQ3vD"
      }
    }
  ]
}